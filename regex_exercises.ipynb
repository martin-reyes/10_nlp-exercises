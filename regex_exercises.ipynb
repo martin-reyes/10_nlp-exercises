{
 "cells": [
  {
   "cell_type": "code",
   "execution_count": null,
   "id": "c8cefcda",
   "metadata": {},
   "outputs": [],
   "source": [
    "def is_vowel():\n",
    "    return 0"
   ]
  },
  {
   "cell_type": "code",
   "execution_count": null,
   "id": "0c85c817",
   "metadata": {},
   "outputs": [],
   "source": [
    "def is_valid_username():\n",
    "    return 0"
   ]
  }
 ],
 "metadata": {
  "kernelspec": {
   "display_name": "Python 3 (ipykernel)",
   "language": "python",
   "name": "python3"
  },
  "language_info": {
   "codemirror_mode": {
    "name": "ipython",
    "version": 3
   },
   "file_extension": ".py",
   "mimetype": "text/x-python",
   "name": "python",
   "nbconvert_exporter": "python",
   "pygments_lexer": "ipython3",
   "version": "3.9.12"
  }
 },
 "nbformat": 4,
 "nbformat_minor": 5
}
